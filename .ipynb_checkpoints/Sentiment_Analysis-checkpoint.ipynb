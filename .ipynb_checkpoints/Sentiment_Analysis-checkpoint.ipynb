{
 "cells": [
  {
   "cell_type": "code",
   "execution_count": 1,
   "id": "7697a448-9fd4-4bca-bed7-c4d1f0c9488a",
   "metadata": {
    "tags": []
   },
   "outputs": [],
   "source": [
    "from os import listdir\n",
    "import nltk\n",
    "# nltk.download()\n",
    "from collections import Counter\n",
    "from nltk.corpus import stopwords\n",
    "import string\n",
    "import re\n",
    "import tensorflow as tf\n",
    "import keras\n",
    "#from keras.preprocessing.text import Tokenizer"
   ]
  },
  {
   "cell_type": "markdown",
   "id": "e42e6078-d943-4838-a20f-868f9f56655b",
   "metadata": {},
   "source": [
    "Data Preprocessing"
   ]
  },
  {
   "cell_type": "code",
   "execution_count": 2,
   "id": "8875c9b6-c209-43d4-b281-b2740e1be31f",
   "metadata": {
    "tags": []
   },
   "outputs": [],
   "source": [
    "# load the doc into memory\n",
    "def load_doc(filename):\n",
    "    file = open(filename, 'r')\n",
    "    text = file.read()\n",
    "    file.close()\n",
    "    return text"
   ]
  },
  {
   "cell_type": "code",
   "execution_count": 3,
   "id": "16d88a8f-9137-4d49-8602-dd29ee34f3b6",
   "metadata": {
    "tags": []
   },
   "outputs": [],
   "source": [
    "# turn a doc into clean tokens\n",
    "def clean_doc(doc):\n",
    "    tokens = doc.split()\n",
    "    \n",
    "    re_punc = re.compile('[%s]' % re.escape(string.punctuation))\n",
    "    tokens = [re_punc.sub('', w) for w in tokens]\n",
    "\n",
    "    tokens = [word for word in tokens if word.isalpha()]\n",
    "\n",
    "    stop_words = set(stopwords.words('english'))\n",
    "    tokens = [w for w in tokens if not w in stop_words]\n",
    "\n",
    "    tokens = [word for word in tokens if len(word)>1]\n",
    "    return tokens"
   ]
  },
  {
   "cell_type": "code",
   "execution_count": 4,
   "id": "f2270cdb-d4f3-4ed2-becd-8c4e2e8264dd",
   "metadata": {
    "tags": []
   },
   "outputs": [],
   "source": [
    "# save list to a file\n",
    "def save_list(lines, filename):\n",
    "    data = '\\n'.join(lines)\n",
    "    file = open(filename,'w')\n",
    "    file.write(data)\n",
    "    file.close"
   ]
  },
  {
   "cell_type": "code",
   "execution_count": 5,
   "id": "0ac15e77-aa0d-4dc7-bea8-efb5ec87823a",
   "metadata": {
    "tags": []
   },
   "outputs": [],
   "source": [
    "# add tokens from file to vocab\n",
    "def add_doc_to_vocab(filename, vocab):\n",
    "    doc = load_doc(filename)\n",
    "    tokens = clean_doc(doc)\n",
    "    vocab.update(tokens)"
   ]
  },
  {
   "cell_type": "code",
   "execution_count": 6,
   "id": "2b0b3b21-6b6d-4256-a986-5248abb67927",
   "metadata": {
    "tags": []
   },
   "outputs": [],
   "source": [
    "# iterates through every file for updating vocab\n",
    "def process_docs(directory, vocab):\n",
    "    for filename in listdir(directory):\n",
    "        # skip any reviews in the test set\n",
    "        if filename.startswith('cv9'):\n",
    "            continue\n",
    "        path = directory + '/' + filename\n",
    "        add_doc_to_vocab(path, vocab)    "
   ]
  },
  {
   "cell_type": "code",
   "execution_count": 90,
   "id": "7e548853-c199-4444-9a04-3b5cb7bcc617",
   "metadata": {
    "tags": []
   },
   "outputs": [
    {
     "name": "stdout",
     "output_type": "stream",
     "text": [
      "44276\n",
      "25767\n"
     ]
    }
   ],
   "source": [
    "vocab = Counter()\n",
    "# update vocab\n",
    "process_docs('review_polarity/txt_sentoken/neg', vocab)\n",
    "process_docs('review_polarity/txt_sentoken/pos', vocab)\n",
    "\n",
    "min_occurance = 2\n",
    "tokens = [k for k,c in vocab.items() if c >= min_occurance]\n",
    "\n",
    "print(len(vocab))\n",
    "print(len(tokens))\n",
    "# save tokens in vocab.txt\n",
    "save_list(tokens, 'vocab.txt')"
   ]
  },
  {
   "cell_type": "code",
   "execution_count": 7,
   "id": "5b5a57a4-36e6-4166-9b24-ab1878810499",
   "metadata": {
    "tags": []
   },
   "outputs": [],
   "source": [
    "# load doc, clean and return line of tokens\n",
    "def doc_to_line(filename, vocab):\n",
    "    doc = load_doc(filename)\n",
    "    tokens = clean_doc(doc)\n",
    "    tokens = [w for w in tokens if w in vocab]\n",
    "    return ' '.join(tokens)"
   ]
  },
  {
   "cell_type": "code",
   "execution_count": 8,
   "id": "68d2fb6c-2211-402b-8095-cde837c1b0bb",
   "metadata": {
    "tags": []
   },
   "outputs": [],
   "source": [
    "# load all docs in a directory\n",
    "def process_docs_2(directory, vocab, is_train):\n",
    "    lines = list()\n",
    "    for filename in listdir(directory):\n",
    "        # skip any reviews in the test set\n",
    "        if is_train and filename.startswith('cv9'):\n",
    "            continue\n",
    "        if not is_train and  not filename.startswith('cv9'):\n",
    "            continue\n",
    "        # train(0-899)...test(900-999)\n",
    "        path = directory + '/' + filename\n",
    "        line = doc_to_line(path, vocab)\n",
    "        lines.append(line)\n",
    "    return lines"
   ]
  },
  {
   "cell_type": "code",
   "execution_count": 9,
   "id": "fd7766e9-73ca-44dd-b968-395efa34acd4",
   "metadata": {
    "tags": []
   },
   "outputs": [],
   "source": [
    "def load_clean_dataset(vocab, is_train):\n",
    "    # prepare negative reviews\n",
    "    neg = process_docs_2('review_polarity/txt_sentoken/neg', vocab, is_train)\n",
    "    pos = process_docs_2('review_polarity/txt_sentoken/pos', vocab, is_train)\n",
    "    docs = neg + pos\n",
    "    # prepare labels\n",
    "    labels = [0 for _ in range(len(neg))] + [1 for _ in range(len(pos))] \n",
    "    return docs, labels"
   ]
  },
  {
   "cell_type": "code",
   "execution_count": 10,
   "id": "a2317a45-9678-42d3-b96e-1971f30463ef",
   "metadata": {
    "tags": []
   },
   "outputs": [],
   "source": [
    "# fit a tokenizer\n",
    "def create_tokenizer(lines):\n",
    "    tokenizer = tf.keras.preprocessing.text.Tokenizer()\n",
    "    tokenizer.fit_on_texts(lines)\n",
    "    return tokenizer"
   ]
  },
  {
   "cell_type": "code",
   "execution_count": 11,
   "id": "160cd9a0-2e7e-4d7b-a857-39076640b5f0",
   "metadata": {
    "tags": []
   },
   "outputs": [
    {
     "name": "stdout",
     "output_type": "stream",
     "text": [
      "(1800, 25768) (200, 25768)\n"
     ]
    }
   ],
   "source": [
    "# load vocabulary\n",
    "vocab_filename = 'vocab.txt'\n",
    "vocab = load_doc(vocab_filename)\n",
    "vocab = vocab.split()\n",
    "vocab = set(vocab)\n",
    "\n",
    "# load all reviews\n",
    "train_docs, ytrain = load_clean_dataset(vocab, True)\n",
    "test_docs, ytest = load_clean_dataset(vocab, False)\n",
    "\n",
    "# create the tokenizer\n",
    "tokenizer = create_tokenizer(train_docs)\n",
    "\n",
    "# encode data\n",
    "#freq : words are scored based on their freq within the document\n",
    "Xtrain = tokenizer.texts_to_matrix(train_docs, mode='freq')\n",
    "Xtest = tokenizer.texts_to_matrix(test_docs, mode='freq')\n",
    "print(Xtrain.shape, Xtest.shape)"
   ]
  },
  {
   "cell_type": "markdown",
   "id": "690dfeae-f8b2-4251-99c8-49941ae2d6f3",
   "metadata": {},
   "source": [
    "Sentiment Analysis model"
   ]
  },
  {
   "cell_type": "code",
   "execution_count": 12,
   "id": "49ee484a-f93d-4aba-acd2-55409c8d4cc4",
   "metadata": {
    "tags": []
   },
   "outputs": [],
   "source": [
    "#pip install pydot"
   ]
  },
  {
   "cell_type": "code",
   "execution_count": 27,
   "id": "ec2e9adc-1b8c-44cb-ba20-6fb087e61107",
   "metadata": {
    "tags": []
   },
   "outputs": [],
   "source": [
    "from keras.models import Sequential\n",
    "from keras.layers import Dense, Input\n",
    "#from keras.utils import plot_model\n",
    "#import pydot\n",
    "import numpy as np\n",
    "from pandas import DataFrame\n",
    "from matplotlib import pyplot as plt"
   ]
  },
  {
   "cell_type": "code",
   "execution_count": 38,
   "id": "f8167e2e-49c4-455f-bd29-bfdf0c6de32a",
   "metadata": {},
   "outputs": [],
   "source": [
    "# define the model\n",
    "def define_model(n_words):\n",
    "    model = Sequential()\n",
    "    model.add(Input(shape=(n_words,)))\n",
    "    model.add(Dense(50, activation = 'relu'))\n",
    "    model.add(Dense(1, activation = 'sigmoid'))\n",
    "    \n",
    "    model.compile(loss ='binary_crossentropy', optimizer ='adam', metrics = ['accuracy'])\n",
    "    \n",
    "    #model.summary()\n",
    "    #plot_model(model, to_file='model.png', show_shapes=True)\n",
    "    return model"
   ]
  },
  {
   "cell_type": "code",
   "execution_count": 39,
   "id": "9dd7e904-e086-4131-8390-cebed1cd81db",
   "metadata": {
    "tags": []
   },
   "outputs": [
    {
     "name": "stdout",
     "output_type": "stream",
     "text": [
      "Xtrain type: <class 'numpy.ndarray'>\n",
      "ytrain type: <class 'list'>\n",
      "Xtest type: <class 'numpy.ndarray'>\n",
      "ytest type: <class 'list'>\n"
     ]
    }
   ],
   "source": [
    "print(\"Xtrain type:\", type(Xtrain))\n",
    "print(\"ytrain type:\", type(ytrain))\n",
    "print(\"Xtest type:\", type(Xtest))\n",
    "print(\"ytest type:\", type(ytest))"
   ]
  },
  {
   "cell_type": "code",
   "execution_count": 20,
   "id": "4c5cd19b-4dc6-482f-8e99-91225d97af79",
   "metadata": {
    "tags": []
   },
   "outputs": [
    {
     "data": {
      "text/html": [
       "<pre style=\"white-space:pre;overflow-x:auto;line-height:normal;font-family:Menlo,'DejaVu Sans Mono',consolas,'Courier New',monospace\"><span style=\"font-weight: bold\">Model: \"sequential_1\"</span>\n",
       "</pre>\n"
      ],
      "text/plain": [
       "\u001b[1mModel: \"sequential_1\"\u001b[0m\n"
      ]
     },
     "metadata": {},
     "output_type": "display_data"
    },
    {
     "data": {
      "text/html": [
       "<pre style=\"white-space:pre;overflow-x:auto;line-height:normal;font-family:Menlo,'DejaVu Sans Mono',consolas,'Courier New',monospace\">┏━━━━━━━━━━━━━━━━━━━━━━━━━━━━━━━┳━━━━━━━━━━━━━━━━━━━━━━━┳━━━━━━━━━━━━━━┓\n",
       "┃<span style=\"font-weight: bold\"> Layer (type)                  </span>┃<span style=\"font-weight: bold\"> Output Shape          </span>┃<span style=\"font-weight: bold\">      Param # </span>┃\n",
       "┡━━━━━━━━━━━━━━━━━━━━━━━━━━━━━━━╇━━━━━━━━━━━━━━━━━━━━━━━╇━━━━━━━━━━━━━━┩\n",
       "│ dense_2 (<span style=\"color: #0087ff; text-decoration-color: #0087ff\">Dense</span>)               │ (<span style=\"color: #00d7ff; text-decoration-color: #00d7ff\">None</span>, <span style=\"color: #00af00; text-decoration-color: #00af00\">50</span>)            │    <span style=\"color: #00af00; text-decoration-color: #00af00\">1,288,450</span> │\n",
       "├───────────────────────────────┼───────────────────────┼──────────────┤\n",
       "│ dense_3 (<span style=\"color: #0087ff; text-decoration-color: #0087ff\">Dense</span>)               │ (<span style=\"color: #00d7ff; text-decoration-color: #00d7ff\">None</span>, <span style=\"color: #00af00; text-decoration-color: #00af00\">1</span>)             │           <span style=\"color: #00af00; text-decoration-color: #00af00\">51</span> │\n",
       "└───────────────────────────────┴───────────────────────┴──────────────┘\n",
       "</pre>\n"
      ],
      "text/plain": [
       "┏━━━━━━━━━━━━━━━━━━━━━━━━━━━━━━━┳━━━━━━━━━━━━━━━━━━━━━━━┳━━━━━━━━━━━━━━┓\n",
       "┃\u001b[1m \u001b[0m\u001b[1mLayer (type)                 \u001b[0m\u001b[1m \u001b[0m┃\u001b[1m \u001b[0m\u001b[1mOutput Shape         \u001b[0m\u001b[1m \u001b[0m┃\u001b[1m \u001b[0m\u001b[1m     Param #\u001b[0m\u001b[1m \u001b[0m┃\n",
       "┡━━━━━━━━━━━━━━━━━━━━━━━━━━━━━━━╇━━━━━━━━━━━━━━━━━━━━━━━╇━━━━━━━━━━━━━━┩\n",
       "│ dense_2 (\u001b[38;5;33mDense\u001b[0m)               │ (\u001b[38;5;45mNone\u001b[0m, \u001b[38;5;34m50\u001b[0m)            │    \u001b[38;5;34m1,288,450\u001b[0m │\n",
       "├───────────────────────────────┼───────────────────────┼──────────────┤\n",
       "│ dense_3 (\u001b[38;5;33mDense\u001b[0m)               │ (\u001b[38;5;45mNone\u001b[0m, \u001b[38;5;34m1\u001b[0m)             │           \u001b[38;5;34m51\u001b[0m │\n",
       "└───────────────────────────────┴───────────────────────┴──────────────┘\n"
      ]
     },
     "metadata": {},
     "output_type": "display_data"
    },
    {
     "data": {
      "text/html": [
       "<pre style=\"white-space:pre;overflow-x:auto;line-height:normal;font-family:Menlo,'DejaVu Sans Mono',consolas,'Courier New',monospace\"><span style=\"font-weight: bold\"> Total params: </span><span style=\"color: #00af00; text-decoration-color: #00af00\">1,288,501</span> (4.92 MB)\n",
       "</pre>\n"
      ],
      "text/plain": [
       "\u001b[1m Total params: \u001b[0m\u001b[38;5;34m1,288,501\u001b[0m (4.92 MB)\n"
      ]
     },
     "metadata": {},
     "output_type": "display_data"
    },
    {
     "data": {
      "text/html": [
       "<pre style=\"white-space:pre;overflow-x:auto;line-height:normal;font-family:Menlo,'DejaVu Sans Mono',consolas,'Courier New',monospace\"><span style=\"font-weight: bold\"> Trainable params: </span><span style=\"color: #00af00; text-decoration-color: #00af00\">1,288,501</span> (4.92 MB)\n",
       "</pre>\n"
      ],
      "text/plain": [
       "\u001b[1m Trainable params: \u001b[0m\u001b[38;5;34m1,288,501\u001b[0m (4.92 MB)\n"
      ]
     },
     "metadata": {},
     "output_type": "display_data"
    },
    {
     "data": {
      "text/html": [
       "<pre style=\"white-space:pre;overflow-x:auto;line-height:normal;font-family:Menlo,'DejaVu Sans Mono',consolas,'Courier New',monospace\"><span style=\"font-weight: bold\"> Non-trainable params: </span><span style=\"color: #00af00; text-decoration-color: #00af00\">0</span> (0.00 B)\n",
       "</pre>\n"
      ],
      "text/plain": [
       "\u001b[1m Non-trainable params: \u001b[0m\u001b[38;5;34m0\u001b[0m (0.00 B)\n"
      ]
     },
     "metadata": {},
     "output_type": "display_data"
    },
    {
     "name": "stdout",
     "output_type": "stream",
     "text": [
      "Epoch 1/10\n",
      "57/57 - 8s - 142ms/step - accuracy: 0.5556 - loss: 0.6916\n",
      "Epoch 2/10\n",
      "57/57 - 1s - 16ms/step - accuracy: 0.6922 - loss: 0.6822\n",
      "Epoch 3/10\n",
      "57/57 - 1s - 16ms/step - accuracy: 0.7783 - loss: 0.6643\n",
      "Epoch 4/10\n",
      "57/57 - 1s - 16ms/step - accuracy: 0.8906 - loss: 0.6359\n",
      "Epoch 5/10\n",
      "57/57 - 1s - 17ms/step - accuracy: 0.9200 - loss: 0.6001\n",
      "Epoch 6/10\n",
      "57/57 - 1s - 16ms/step - accuracy: 0.9311 - loss: 0.5591\n",
      "Epoch 7/10\n",
      "57/57 - 1s - 16ms/step - accuracy: 0.9500 - loss: 0.5137\n",
      "Epoch 8/10\n",
      "57/57 - 1s - 16ms/step - accuracy: 0.9517 - loss: 0.4692\n",
      "Epoch 9/10\n",
      "57/57 - 1s - 15ms/step - accuracy: 0.9622 - loss: 0.4259\n",
      "Epoch 10/10\n",
      "57/57 - 1s - 15ms/step - accuracy: 0.9656 - loss: 0.3853\n",
      "Test Accuracy 86.00000143051147\n"
     ]
    }
   ],
   "source": [
    "n_words = Xtest.shape[1]\n",
    "model = define_model(n_words)\n",
    "model.fit(Xtrain, np.array(ytrain), epochs = 10, verbose = 2)\n",
    "\n",
    "loss, acc = model.evaluate(Xtest, np.array(ytest), verbose = 0)\n",
    "print(f\"Test Accuracy {acc*100}\")"
   ]
  },
  {
   "cell_type": "markdown",
   "id": "1c3e007e-bb0c-447a-bf94-cea2e93201ef",
   "metadata": {},
   "source": [
    "Comparing Word Scoring Methods"
   ]
  },
  {
   "cell_type": "code",
   "execution_count": 44,
   "id": "a0f56893-be5a-42e6-8f15-728ed8a6eeea",
   "metadata": {},
   "outputs": [],
   "source": [
    "# texts_to_matrix() function for Tokenizer in Keras API provides 4 different methods for scoring words\n",
    "def evaluate_mode(xtrain, ytrain, xtest, ytest):\n",
    "    scores = list()\n",
    "    n_repeats = 10\n",
    "    n_words = xtest.shape[1]\n",
    "    for i in range(n_repeats):\n",
    "        model = define_model(n_words)\n",
    "        model.fit(xtrain, ytrain, epochs=10, verbose=0)\n",
    "        _, acc = model.evaluate(xtest, ytest, verbose=0)\n",
    "        scores.append(acc)\n",
    "        print(f\"{mode}_{i+1} accuracy {acc}\")\n",
    "    return scores"
   ]
  },
  {
   "cell_type": "code",
   "execution_count": 33,
   "id": "c194eedd-9ea6-41b9-8e9b-ab16cb8f41c9",
   "metadata": {
    "tags": []
   },
   "outputs": [],
   "source": [
    "def prepare_data(train_docs, test_docs, mode):\n",
    "    # create the tokenizer\n",
    "    tokenizer = tf.keras.preprocessing.text.Tokenizer()\n",
    "    tokenizer.fit_on_texts(train_docs)\n",
    "    # encode data\n",
    "    Xtrain = tokenizer.texts_to_matrix(train_docs, mode = mode)\n",
    "    Xtest = tokenizer.texts_to_matrix(test_docs, mode = mode)\n",
    "    return Xtrain, Xtest"
   ]
  },
  {
   "cell_type": "code",
   "execution_count": 46,
   "id": "24a6386e-87d0-47a1-b159-9b42a3c4cfb8",
   "metadata": {
    "tags": []
   },
   "outputs": [
    {
     "name": "stdout",
     "output_type": "stream",
     "text": [
      "binary_1 accuracy 0.9350000023841858\n",
      "binary_2 accuracy 0.9399999976158142\n",
      "binary_3 accuracy 0.9300000071525574\n",
      "binary_4 accuracy 0.9399999976158142\n",
      "binary_5 accuracy 0.925000011920929\n",
      "binary_6 accuracy 0.925000011920929\n",
      "binary_7 accuracy 0.9200000166893005\n",
      "binary_8 accuracy 0.9200000166893005\n",
      "binary_9 accuracy 0.925000011920929\n",
      "binary_10 accuracy 0.9350000023841858\n",
      "count_1 accuracy 0.8949999809265137\n",
      "count_2 accuracy 0.8999999761581421\n",
      "count_3 accuracy 0.8849999904632568\n",
      "count_4 accuracy 0.9150000214576721\n",
      "count_5 accuracy 0.9100000262260437\n",
      "count_6 accuracy 0.8999999761581421\n",
      "count_7 accuracy 0.8999999761581421\n",
      "count_8 accuracy 0.8999999761581421\n",
      "count_9 accuracy 0.9100000262260437\n",
      "count_10 accuracy 0.9049999713897705\n",
      "tfidf_1 accuracy 0.8849999904632568\n",
      "tfidf_2 accuracy 0.8849999904632568\n",
      "tfidf_3 accuracy 0.8600000143051147\n",
      "tfidf_4 accuracy 0.8849999904632568\n",
      "tfidf_5 accuracy 0.8450000286102295\n",
      "tfidf_6 accuracy 0.8849999904632568\n",
      "tfidf_7 accuracy 0.875\n",
      "tfidf_8 accuracy 0.8550000190734863\n",
      "tfidf_9 accuracy 0.8799999952316284\n",
      "tfidf_10 accuracy 0.8949999809265137\n",
      "freq_1 accuracy 0.8700000047683716\n",
      "freq_2 accuracy 0.875\n",
      "freq_3 accuracy 0.8799999952316284\n",
      "freq_4 accuracy 0.8700000047683716\n",
      "freq_5 accuracy 0.8650000095367432\n",
      "freq_6 accuracy 0.8700000047683716\n",
      "freq_7 accuracy 0.8650000095367432\n",
      "freq_8 accuracy 0.8650000095367432\n",
      "freq_9 accuracy 0.8700000047683716\n",
      "freq_10 accuracy 0.8700000047683716\n",
      "          binary      count      tfidf       freq\n",
      "count  10.000000  10.000000  10.000000  10.000000\n",
      "mean    0.929500   0.902000   0.875000   0.870000\n",
      "std     0.007619   0.008564   0.016159   0.004714\n",
      "min     0.920000   0.885000   0.845000   0.865000\n",
      "25%     0.925000   0.900000   0.863750   0.866250\n",
      "50%     0.927500   0.900000   0.882500   0.870000\n",
      "75%     0.935000   0.908750   0.885000   0.870000\n",
      "max     0.940000   0.915000   0.895000   0.880000\n"
     ]
    },
    {
     "data": {
      "image/png": "[encoded data removed]",
      "text/plain": [
       "<Figure size 640x480 with 1 Axes>"
      ]
     },
     "metadata": {},
     "output_type": "display_data"
    }
   ],
   "source": [
    "vocab_filename = 'vocab.txt'\n",
    "vocab = load_doc(vocab_filename)\n",
    "vocab = set(vocab.split())\n",
    "\n",
    "train_docs, ytrain = load_clean_dataset(vocab, True)\n",
    "test_docs, ytest = load_clean_dataset(vocab, False)\n",
    "\n",
    "modes = ['binary', 'count', 'tfidf', 'freq']\n",
    "results = DataFrame()\n",
    "for mode in modes:\n",
    "    xtrain, xtest= prepare_data(train_docs, test_docs, mode)\n",
    "    results[mode] = evaluate_mode(xtrain, np.array(ytrain), xtest, np.array(ytest))\n",
    "# summarize results\n",
    "print(results.describe())\n",
    "results.boxplot()\n",
    "plt.show()"
   ]
  },
  {
   "cell_type": "code",
   "execution_count": null,
   "id": "8ff7bad6-fc47-4c67-8870-592db165fb42",
   "metadata": {},
   "outputs": [],
   "source": []
  }
 ],
 "metadata": {
  "kernelspec": {
   "display_name": "Python 3",
   "language": "python",
   "name": "python3"
  },
  "language_info": {
   "codemirror_mode": {
    "name": "ipython",
    "version": 3
   },
   "file_extension": ".py",
   "mimetype": "text/x-python",
   "name": "python",
   "nbconvert_exporter": "python",
   "pygments_lexer": "ipython3",
   "version": "3.11.5"
  }
 },
 "nbformat": 4,
 "nbformat_minor": 5
}

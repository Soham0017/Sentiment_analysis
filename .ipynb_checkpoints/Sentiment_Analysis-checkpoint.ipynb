{
 "cells": [
  {
   "cell_type": "code",
   "execution_count": 84,
   "id": "7697a448-9fd4-4bca-bed7-c4d1f0c9488a",
   "metadata": {
    "tags": []
   },
   "outputs": [],
   "source": [
    "from os import listdir\n",
    "import nltk\n",
    "# nltk.download()\n",
    "from collections import Counter\n",
    "from nltk.corpus import stopwords\n",
    "import string\n",
    "import re\n",
    "import tensorflow as tf\n",
    "import keras\n",
    "#from keras.preprocessing.text import Tokenizer"
   ]
  },
  {
   "cell_type": "markdown",
   "id": "e42e6078-d943-4838-a20f-868f9f56655b",
   "metadata": {},
   "source": [
    "Data Preprocessing"
   ]
  },
  {
   "cell_type": "code",
   "execution_count": 85,
   "id": "8875c9b6-c209-43d4-b281-b2740e1be31f",
   "metadata": {
    "tags": []
   },
   "outputs": [],
   "source": [
    "# load the doc into memory\n",
    "def load_doc(filename):\n",
    "    file = open(filename, 'r')\n",
    "    text = file.read()\n",
    "    file.close()\n",
    "    return text"
   ]
  },
  {
   "cell_type": "code",
   "execution_count": 86,
   "id": "16d88a8f-9137-4d49-8602-dd29ee34f3b6",
   "metadata": {
    "tags": []
   },
   "outputs": [],
   "source": [
    "# turn a doc into clean tokens\n",
    "def clean_doc(doc):\n",
    "    tokens = doc.split()\n",
    "    \n",
    "    re_punc = re.compile('[%s]' % re.escape(string.punctuation))\n",
    "    tokens = [re_punc.sub('', w) for w in tokens]\n",
    "\n",
    "    tokens = [word for word in tokens if word.isalpha()]\n",
    "\n",
    "    stop_words = set(stopwords.words('english'))\n",
    "    tokens = [w for w in tokens if not w in stop_words]\n",
    "\n",
    "    tokens = [word for word in tokens if len(word)>1]\n",
    "    return tokens"
   ]
  },
  {
   "cell_type": "code",
   "execution_count": 87,
   "id": "f2270cdb-d4f3-4ed2-becd-8c4e2e8264dd",
   "metadata": {
    "tags": []
   },
   "outputs": [],
   "source": [
    "# save list to a file\n",
    "def save_list(lines, filename):\n",
    "    data = '\\n'.join(lines)\n",
    "    file = open(filename,'w')\n",
    "    file.write(data)\n",
    "    file.close"
   ]
  },
  {
   "cell_type": "code",
   "execution_count": 88,
   "id": "0ac15e77-aa0d-4dc7-bea8-efb5ec87823a",
   "metadata": {
    "tags": []
   },
   "outputs": [],
   "source": [
    "# add tokens from file to vocab\n",
    "def add_doc_to_vocab(filename, vocab):\n",
    "    doc = load_doc(filename)\n",
    "    tokens = clean_doc(doc)\n",
    "    vocab.update(tokens)"
   ]
  },
  {
   "cell_type": "code",
   "execution_count": 89,
   "id": "2b0b3b21-6b6d-4256-a986-5248abb67927",
   "metadata": {
    "tags": []
   },
   "outputs": [],
   "source": [
    "# iterates through every file for updating vocab\n",
    "def process_docs(directory, vocab):\n",
    "    for filename in listdir(directory):\n",
    "        # skip any reviews in the test set\n",
    "        if filename.startswith('cv9'):\n",
    "            continue\n",
    "        path = directory + '/' + filename\n",
    "        add_doc_to_vocab(path, vocab)    "
   ]
  },
  {
   "cell_type": "code",
   "execution_count": 90,
   "id": "7e548853-c199-4444-9a04-3b5cb7bcc617",
   "metadata": {
    "tags": []
   },
   "outputs": [
    {
     "name": "stdout",
     "output_type": "stream",
     "text": [
      "44276\n",
      "25767\n"
     ]
    }
   ],
   "source": [
    "vocab = Counter()\n",
    "# update vocab\n",
    "process_docs('review_polarity/txt_sentoken/neg', vocab)\n",
    "process_docs('review_polarity/txt_sentoken/pos', vocab)\n",
    "\n",
    "min_occurance = 2\n",
    "tokens = [k for k,c in vocab.items() if c >= min_occurance]\n",
    "\n",
    "print(len(vocab))\n",
    "print(len(tokens))\n",
    "# save tokens in vocab.txt\n",
    "save_list(tokens, 'vocab.txt')"
   ]
  },
  {
   "cell_type": "code",
   "execution_count": 91,
   "id": "5b5a57a4-36e6-4166-9b24-ab1878810499",
   "metadata": {
    "tags": []
   },
   "outputs": [],
   "source": [
    "# load doc, clean and return line of tokens\n",
    "def doc_to_line(filename, vocab):\n",
    "    doc = load_doc(filename)\n",
    "    tokens = clean_doc(doc)\n",
    "    tokens = [w for w in tokens if w in vocab]\n",
    "    return ' '.join(tokens)"
   ]
  },
  {
   "cell_type": "code",
   "execution_count": 92,
   "id": "68d2fb6c-2211-402b-8095-cde837c1b0bb",
   "metadata": {
    "tags": []
   },
   "outputs": [],
   "source": [
    "# load all docs in a directory\n",
    "def process_docs_2(directory, vocab, is_train):\n",
    "    lines = list()\n",
    "    for filename in listdir(directory):\n",
    "        # skip any reviews in the test set\n",
    "        if is_train and filename.startswith('cv9'):\n",
    "            continue\n",
    "        if not is_train and  not filename.startswith('cv9'):\n",
    "            continue\n",
    "        # train(0-899)...test(900-999)\n",
    "        path = directory + '/' + filename\n",
    "        line = doc_to_line(path, vocab)\n",
    "        lines.append(line)\n",
    "    return lines"
   ]
  },
  {
   "cell_type": "code",
   "execution_count": 93,
   "id": "fd7766e9-73ca-44dd-b968-395efa34acd4",
   "metadata": {
    "tags": []
   },
   "outputs": [],
   "source": [
    "def load_clean_dataset(vocab, is_train):\n",
    "    # prepare negative reviews\n",
    "    neg = process_docs_2('review_polarity/txt_sentoken/neg', vocab, is_train)\n",
    "    pos = process_docs_2('review_polarity/txt_sentoken/pos', vocab, is_train)\n",
    "    docs = neg + pos\n",
    "    # prepare labels\n",
    "    labels = [0 for _ in range(len(neg))] + [1 for _ in range(len(pos))] \n",
    "    return docs, labels"
   ]
  },
  {
   "cell_type": "code",
   "execution_count": 96,
   "id": "a2317a45-9678-42d3-b96e-1971f30463ef",
   "metadata": {
    "tags": []
   },
   "outputs": [],
   "source": [
    "# fit a tokenizer\n",
    "def create_tokenizer(lines):\n",
    "    tokenizer = tf.keras.preprocessing.text.Tokenizer()\n",
    "    tokenizer.fit_on_texts(lines)\n",
    "    return tokenizer"
   ]
  },
  {
   "cell_type": "code",
   "execution_count": 98,
   "id": "160cd9a0-2e7e-4d7b-a857-39076640b5f0",
   "metadata": {
    "tags": []
   },
   "outputs": [
    {
     "name": "stdout",
     "output_type": "stream",
     "text": [
      "(1800, 25768) (200, 25768)\n"
     ]
    }
   ],
   "source": [
    "# load vocabulary\n",
    "vocab_filename = 'vocab.txt'\n",
    "vocab = load_doc(vocab_filename)\n",
    "vocab = vocab.split()\n",
    "vocab = set(vocab)\n",
    "\n",
    "# load all reviews\n",
    "train_docs, ytrain = load_clean_dataset(vocab, True)\n",
    "test_docs, ytest = load_clean_dataset(vocab, False)\n",
    "\n",
    "# create the tokenizer\n",
    "tokenizer = create_tokenizer(train_docs)\n",
    "\n",
    "# encode data\n",
    "Xtrain = tokenizer.texts_to_matrix(train_docs, mode='freq')\n",
    "Xtest = tokenizer.texts_to_matrix(test_docs, mode='freq')\n",
    "print(Xtrain.shape, Xtest.shape)"
   ]
  },
  {
   "cell_type": "code",
   "execution_count": null,
   "id": "f8167e2e-49c4-455f-bd29-bfdf0c6de32a",
   "metadata": {},
   "outputs": [],
   "source": []
  }
 ],
 "metadata": {
  "kernelspec": {
   "display_name": "Python 3",
   "language": "python",
   "name": "python3"
  },
  "language_info": {
   "codemirror_mode": {
    "name": "ipython",
    "version": 3
   },
   "file_extension": ".py",
   "mimetype": "text/x-python",
   "name": "python",
   "nbconvert_exporter": "python",
   "pygments_lexer": "ipython3",
   "version": "3.11.5"
  }
 },
 "nbformat": 4,
 "nbformat_minor": 5
}
